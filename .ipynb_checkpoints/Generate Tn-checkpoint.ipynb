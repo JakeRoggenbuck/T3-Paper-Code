{
 "cells": [
  {
   "cell_type": "code",
   "execution_count": 3,
   "id": "f469b17e-c2e0-4cbb-81d4-139f89156741",
   "metadata": {},
   "outputs": [
    {
     "name": "stdout",
     "output_type": "stream",
     "text": [
      "0 True\n",
      "1 True\n",
      "2 True\n",
      "3 True\n",
      "4 False\n",
      "5 True\n",
      "6 False\n",
      "7 True\n",
      "8 False\n",
      "9 False\n"
     ]
    }
   ],
   "source": [
    "def check_prime(num: int):\n",
    "    if num > 1:\n",
    "\n",
    "        for i in range(2, num):\n",
    "            if (num % i) == 0:\n",
    "                return False\n",
    "\n",
    "    return True\n",
    "\n",
    "for x in range(10):\n",
    "    print(x, check_prime(x))"
   ]
  },
  {
   "cell_type": "code",
   "execution_count": 4,
   "id": "5afe5ba1-5235-482e-810c-d6bc930dc5cb",
   "metadata": {},
   "outputs": [],
   "source": [
    "def gen_tn(low=0, high=100, n=3, verbose=True):\n",
    "    all_nums = []\n",
    "    for j, i in enumerate(range(low, high, n)):\n",
    "        c = bin(i).count('1') % 2\n",
    "        if verbose:\n",
    "            prime = check_prime(j)\n",
    "            if prime:\n",
    "                print(f\"{prime=} {i}: {c}\")\n",
    "        all_nums.append(c)\n",
    "    return all_nums"
   ]
  },
  {
   "cell_type": "code",
   "execution_count": 5,
   "id": "abe406aa-2a1f-4f00-b939-cf42ba846596",
   "metadata": {},
   "outputs": [],
   "source": [
    "t3 = gen_tn(high=1000, verbose=False)"
   ]
  },
  {
   "cell_type": "code",
   "execution_count": 7,
   "id": "d4e801d0-d199-4a22-b1e8-20177de52202",
   "metadata": {},
   "outputs": [
    {
     "name": "stdout",
     "output_type": "stream",
     "text": [
      "3\n",
      "24\n",
      "27\n",
      "45\n",
      "48\n",
      "72\n",
      "75\n",
      "84\n",
      "93\n",
      "96\n"
     ]
    }
   ],
   "source": [
    "import pandas as pd\n",
    "df = pd.read_csv(\"./rl-locations-new/data4/data_locations_of_ones.csv\")\n",
    "df = df.head(10)\n",
    "for x in df[\"loc_in_t\"]:\n",
    "    print(x)"
   ]
  },
  {
   "cell_type": "code",
   "execution_count": 8,
   "id": "efd28fa3-047d-4945-8b1f-d036df5fa380",
   "metadata": {},
   "outputs": [
    {
     "name": "stdout",
     "output_type": "stream",
     "text": [
      "   count  loc_in_t\n",
      "0      1         3\n"
     ]
    }
   ],
   "source": [
    "def return_under(df):\n",
    "    all = []\n",
    "    total = len(df)\n",
    "    for x in range(0, total):\n",
    "        p = check_prime(df.iloc[x].loc_in_t)\n",
    "        if p:\n",
    "            all.append(True)\n",
    "        else:\n",
    "            all.append(False)\n",
    "\n",
    "    return df[all]\n",
    "\n",
    "df = return_under(df)\n",
    "print(df.head())"
   ]
  },
  {
   "cell_type": "code",
   "execution_count": null,
   "id": "e99707de-f1e9-4d3c-ac22-7386d232afb7",
   "metadata": {},
   "outputs": [],
   "source": []
  },
  {
   "cell_type": "code",
   "execution_count": null,
   "id": "d5bad2c1-c4bb-4fbf-9dac-a396cd49fb94",
   "metadata": {},
   "outputs": [],
   "source": []
  }
 ],
 "metadata": {
  "kernelspec": {
   "display_name": "Python 3 (ipykernel)",
   "language": "python",
   "name": "python3"
  },
  "language_info": {
   "codemirror_mode": {
    "name": "ipython",
    "version": 3
   },
   "file_extension": ".py",
   "mimetype": "text/x-python",
   "name": "python",
   "nbconvert_exporter": "python",
   "pygments_lexer": "ipython3",
   "version": "3.10.6"
  }
 },
 "nbformat": 4,
 "nbformat_minor": 5
}
